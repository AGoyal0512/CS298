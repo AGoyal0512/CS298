{
 "cells": [
  {
   "cell_type": "code",
   "execution_count": 1,
   "id": "92f50c5a",
   "metadata": {},
   "outputs": [],
   "source": [
    "import pandas as pd\n",
    "\n",
    "import warnings\n",
    "warnings.filterwarnings('ignore')"
   ]
  },
  {
   "cell_type": "code",
   "execution_count": 2,
   "id": "1932d46c",
   "metadata": {},
   "outputs": [],
   "source": [
    "socio = pd.read_csv('data/socio.csv', index_col = 'X').drop('Unnamed: 0', axis = 1)"
   ]
  },
  {
   "cell_type": "code",
   "execution_count": 3,
   "id": "be80c1f0",
   "metadata": {},
   "outputs": [
    {
     "data": {
      "text/plain": [
       "(1262316, 7)"
      ]
     },
     "execution_count": 3,
     "metadata": {},
     "output_type": "execute_result"
    }
   ],
   "source": [
    "socio.shape"
   ]
  },
  {
   "cell_type": "code",
   "execution_count": 4,
   "id": "70277c82",
   "metadata": {},
   "outputs": [
    {
     "data": {
      "text/plain": [
       "TYPE            1262316\n",
       "ZIPID                 0\n",
       "FIPS.x               33\n",
       "GISJOIN              33\n",
       "FIPS.y               33\n",
       "ADI_NATRANK          33\n",
       "ADI_STATERNK         33\n",
       "dtype: int64"
      ]
     },
     "execution_count": 4,
     "metadata": {},
     "output_type": "execute_result"
    }
   ],
   "source": [
    "socio.isna().sum()"
   ]
  },
  {
   "cell_type": "code",
   "execution_count": 5,
   "id": "e8d1fe69",
   "metadata": {},
   "outputs": [],
   "source": [
    "socio = socio.drop('TYPE', axis = 1)"
   ]
  },
  {
   "cell_type": "code",
   "execution_count": 6,
   "id": "652eab95",
   "metadata": {},
   "outputs": [
    {
     "data": {
      "text/html": [
       "<div>\n",
       "<style scoped>\n",
       "    .dataframe tbody tr th:only-of-type {\n",
       "        vertical-align: middle;\n",
       "    }\n",
       "\n",
       "    .dataframe tbody tr th {\n",
       "        vertical-align: top;\n",
       "    }\n",
       "\n",
       "    .dataframe thead th {\n",
       "        text-align: right;\n",
       "    }\n",
       "</style>\n",
       "<table border=\"1\" class=\"dataframe\">\n",
       "  <thead>\n",
       "    <tr style=\"text-align: right;\">\n",
       "      <th></th>\n",
       "      <th>ZIPID</th>\n",
       "      <th>FIPS.x</th>\n",
       "      <th>GISJOIN</th>\n",
       "      <th>FIPS.y</th>\n",
       "      <th>ADI_NATRANK</th>\n",
       "      <th>ADI_STATERNK</th>\n",
       "    </tr>\n",
       "    <tr>\n",
       "      <th>X</th>\n",
       "      <th></th>\n",
       "      <th></th>\n",
       "      <th></th>\n",
       "      <th></th>\n",
       "      <th></th>\n",
       "      <th></th>\n",
       "    </tr>\n",
       "  </thead>\n",
       "  <tbody>\n",
       "    <tr>\n",
       "      <th>1</th>\n",
       "      <td>G530010001</td>\n",
       "      <td>5.511701e+11</td>\n",
       "      <td>G55011700112002</td>\n",
       "      <td>5.511701e+11</td>\n",
       "      <td>56</td>\n",
       "      <td>5</td>\n",
       "    </tr>\n",
       "    <tr>\n",
       "      <th>2</th>\n",
       "      <td>G530010002</td>\n",
       "      <td>5.511701e+11</td>\n",
       "      <td>G55011700112002</td>\n",
       "      <td>5.511701e+11</td>\n",
       "      <td>56</td>\n",
       "      <td>5</td>\n",
       "    </tr>\n",
       "    <tr>\n",
       "      <th>3</th>\n",
       "      <td>G530010003</td>\n",
       "      <td>5.511701e+11</td>\n",
       "      <td>G55011700112002</td>\n",
       "      <td>5.511701e+11</td>\n",
       "      <td>56</td>\n",
       "      <td>5</td>\n",
       "    </tr>\n",
       "    <tr>\n",
       "      <th>4</th>\n",
       "      <td>G530010004</td>\n",
       "      <td>5.511701e+11</td>\n",
       "      <td>G55011700112002</td>\n",
       "      <td>5.511701e+11</td>\n",
       "      <td>56</td>\n",
       "      <td>5</td>\n",
       "    </tr>\n",
       "    <tr>\n",
       "      <th>5</th>\n",
       "      <td>G530010005</td>\n",
       "      <td>5.511701e+11</td>\n",
       "      <td>G55011700112002</td>\n",
       "      <td>5.511701e+11</td>\n",
       "      <td>56</td>\n",
       "      <td>5</td>\n",
       "    </tr>\n",
       "    <tr>\n",
       "      <th>...</th>\n",
       "      <td>...</td>\n",
       "      <td>...</td>\n",
       "      <td>...</td>\n",
       "      <td>...</td>\n",
       "      <td>...</td>\n",
       "      <td>...</td>\n",
       "    </tr>\n",
       "    <tr>\n",
       "      <th>1262312</th>\n",
       "      <td>G549909994</td>\n",
       "      <td>5.513510e+11</td>\n",
       "      <td>G55013501003002</td>\n",
       "      <td>5.513510e+11</td>\n",
       "      <td>76</td>\n",
       "      <td>8</td>\n",
       "    </tr>\n",
       "    <tr>\n",
       "      <th>1262313</th>\n",
       "      <td>G549909995</td>\n",
       "      <td>5.513510e+11</td>\n",
       "      <td>G55013501003002</td>\n",
       "      <td>5.513510e+11</td>\n",
       "      <td>76</td>\n",
       "      <td>8</td>\n",
       "    </tr>\n",
       "    <tr>\n",
       "      <th>1262314</th>\n",
       "      <td>G549909996</td>\n",
       "      <td>5.513510e+11</td>\n",
       "      <td>G55013501003002</td>\n",
       "      <td>5.513510e+11</td>\n",
       "      <td>76</td>\n",
       "      <td>8</td>\n",
       "    </tr>\n",
       "    <tr>\n",
       "      <th>1262315</th>\n",
       "      <td>G549909997</td>\n",
       "      <td>5.513510e+11</td>\n",
       "      <td>G55013501003002</td>\n",
       "      <td>5.513510e+11</td>\n",
       "      <td>76</td>\n",
       "      <td>8</td>\n",
       "    </tr>\n",
       "    <tr>\n",
       "      <th>1262316</th>\n",
       "      <td>G549909998</td>\n",
       "      <td>5.513510e+11</td>\n",
       "      <td>G55013501003002</td>\n",
       "      <td>5.513510e+11</td>\n",
       "      <td>76</td>\n",
       "      <td>8</td>\n",
       "    </tr>\n",
       "  </tbody>\n",
       "</table>\n",
       "<p>1262316 rows × 6 columns</p>\n",
       "</div>"
      ],
      "text/plain": [
       "              ZIPID        FIPS.x          GISJOIN        FIPS.y ADI_NATRANK  \\\n",
       "X                                                                              \n",
       "1        G530010001  5.511701e+11  G55011700112002  5.511701e+11          56   \n",
       "2        G530010002  5.511701e+11  G55011700112002  5.511701e+11          56   \n",
       "3        G530010003  5.511701e+11  G55011700112002  5.511701e+11          56   \n",
       "4        G530010004  5.511701e+11  G55011700112002  5.511701e+11          56   \n",
       "5        G530010005  5.511701e+11  G55011700112002  5.511701e+11          56   \n",
       "...             ...           ...              ...           ...         ...   \n",
       "1262312  G549909994  5.513510e+11  G55013501003002  5.513510e+11          76   \n",
       "1262313  G549909995  5.513510e+11  G55013501003002  5.513510e+11          76   \n",
       "1262314  G549909996  5.513510e+11  G55013501003002  5.513510e+11          76   \n",
       "1262315  G549909997  5.513510e+11  G55013501003002  5.513510e+11          76   \n",
       "1262316  G549909998  5.513510e+11  G55013501003002  5.513510e+11          76   \n",
       "\n",
       "        ADI_STATERNK  \n",
       "X                     \n",
       "1                  5  \n",
       "2                  5  \n",
       "3                  5  \n",
       "4                  5  \n",
       "5                  5  \n",
       "...              ...  \n",
       "1262312            8  \n",
       "1262313            8  \n",
       "1262314            8  \n",
       "1262315            8  \n",
       "1262316            8  \n",
       "\n",
       "[1262316 rows x 6 columns]"
      ]
     },
     "execution_count": 6,
     "metadata": {},
     "output_type": "execute_result"
    }
   ],
   "source": [
    "socio"
   ]
  },
  {
   "cell_type": "code",
   "execution_count": null,
   "id": "242d3400",
   "metadata": {},
   "outputs": [],
   "source": []
  }
 ],
 "metadata": {
  "kernelspec": {
   "display_name": "Python 3",
   "language": "python",
   "name": "python3"
  },
  "language_info": {
   "codemirror_mode": {
    "name": "ipython",
    "version": 3
   },
   "file_extension": ".py",
   "mimetype": "text/x-python",
   "name": "python",
   "nbconvert_exporter": "python",
   "pygments_lexer": "ipython3",
   "version": "3.8.8"
  }
 },
 "nbformat": 4,
 "nbformat_minor": 5
}
